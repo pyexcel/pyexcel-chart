{
 "cells": [
  {
   "cell_type": "markdown",
   "metadata": {},
   "source": [
    "## Percentage of permanent residence issued to Chinese and Indian nationals in 2015, comparing with the rest of Asia\n",
    "\n",
    "Data source: [Yearbook of Immigration Statistics 2015, Homeland Security, United States](https://www.dhs.gov/immigration-statistics/yearbook/2015)"
   ]
  },
  {
   "cell_type": "code",
   "execution_count": 2,
   "metadata": {
    "collapsed": false
   },
   "outputs": [
    {
     "data": {
      "text/html": [
       "pyexcel sheet:\n",
       "<table>\n",
       "<tbody>\n",
       "<tr><td>Table 3.                                                                                                    </td><td>    </td><td>    </td><td>    </td><td>    </td><td>    </td><td>    </td><td>    </td><td>    </td><td>    </td><td>    </td></tr>\n",
       "<tr><td>PERSONS OBTAINING LAWFUL PERMANENT RESIDENT STATUS BY REGION AND COUNTRY OF BIRTH: FISCAL YEARS 2006 TO 2015</td><td>    </td><td>    </td><td>    </td><td>    </td><td>    </td><td>    </td><td>    </td><td>    </td><td>    </td><td>    </td></tr>\n",
       "<tr><td>                                                                                                            </td><td>    </td><td>    </td><td>    </td><td>    </td><td>    </td><td>    </td><td>    </td><td>    </td><td>    </td><td>    </td></tr>\n",
       "<tr><td>Region and country of birth                                                                                 </td><td>2006</td><td>2007</td><td>2008</td><td>2009</td><td>2010</td><td>2011</td><td>2012</td><td>2013</td><td>2014</td><td>2015</td></tr>\n",
       "<tr><td>REGION                                                                                                      </td><td>    </td><td>    </td><td>    </td><td>    </td><td>    </td><td>    </td><td>    </td><td>    </td><td>    </td><td>    </td></tr>\n",
       "</tbody>\n",
       "</table>"
      ],
      "text/plain": [
       "pyexcel sheet:\n",
       "+--------------------------------------------------------------------------------------------------------------+------+------+------+------+------+------+------+------+------+------+\n",
       "| Table 3.                                                                                                     |      |      |      |      |      |      |      |      |      |      |\n",
       "+--------------------------------------------------------------------------------------------------------------+------+------+------+------+------+------+------+------+------+------+\n",
       "| PERSONS OBTAINING LAWFUL PERMANENT RESIDENT STATUS BY REGION AND COUNTRY OF BIRTH: FISCAL YEARS 2006 TO 2015 |      |      |      |      |      |      |      |      |      |      |\n",
       "+--------------------------------------------------------------------------------------------------------------+------+------+------+------+------+------+------+------+------+------+\n",
       "|                                                                                                              |      |      |      |      |      |      |      |      |      |      |\n",
       "+--------------------------------------------------------------------------------------------------------------+------+------+------+------+------+------+------+------+------+------+\n",
       "| Region and country of birth                                                                                  | 2006 | 2007 | 2008 | 2009 | 2010 | 2011 | 2012 | 2013 | 2014 | 2015 |\n",
       "+--------------------------------------------------------------------------------------------------------------+------+------+------+------+------+------+------+------+------+------+\n",
       "| REGION                                                                                                       |      |      |      |      |      |      |      |      |      |      |\n",
       "+--------------------------------------------------------------------------------------------------------------+------+------+------+------+------+------+------+------+------+------+"
      ]
     },
     "execution_count": 2,
     "metadata": {},
     "output_type": "execute_result"
    }
   ],
   "source": [
    "import pyexcel as p\n",
    "\n",
    "base_url = \"https://raw.githubusercontent.com/pyexcel/pyexcel-chart/master/\"\n",
    "sheet=p.get_sheet(url=base_url+\"fy2015_table3d.xls\")\n",
    "sheet.top()"
   ]
  },
  {
   "cell_type": "markdown",
   "metadata": {},
   "source": [
    "Let skip the first three rows because they contain meta data only."
   ]
  },
  {
   "cell_type": "code",
   "execution_count": 3,
   "metadata": {
    "collapsed": false
   },
   "outputs": [
    {
     "data": {
      "text/html": [
       "pyexcel sheet:\n",
       "<table>\n",
       "<tbody>\n",
       "<tr><td>Region and country of birth</td><td>2006   </td><td>2007   </td><td>2008   </td><td>2009   </td><td>2010   </td><td>2011   </td><td>2012   </td><td>2013  </td><td>2014   </td><td>2015   </td></tr>\n",
       "<tr><td>REGION                     </td><td>       </td><td>       </td><td>       </td><td>       </td><td>       </td><td>       </td><td>       </td><td>      </td><td>       </td><td>       </td></tr>\n",
       "<tr><td>Total                      </td><td>1266129</td><td>1052415</td><td>1107126</td><td>1130818</td><td>1042625</td><td>1062040</td><td>1031631</td><td>990553</td><td>1016518</td><td>1051031</td></tr>\n",
       "<tr><td>Africa                     </td><td>117421 </td><td>94710  </td><td>105915 </td><td>127046 </td><td>101355 </td><td>100374 </td><td>107241 </td><td>98304 </td><td>98413  </td><td>101415 </td></tr>\n",
       "<tr><td>Asia                       </td><td>440335 </td><td>397834 </td><td>399027 </td><td>413312 </td><td>422063 </td><td>451593 </td><td>429599 </td><td>400548</td><td>430508 </td><td>419297 </td></tr>\n",
       "</tbody>\n",
       "</table>"
      ],
      "text/plain": [
       "pyexcel sheet:\n",
       "+-----------------------------+---------+---------+---------+---------+---------+---------+---------+--------+---------+---------+\n",
       "| Region and country of birth | 2006    | 2007    | 2008    | 2009    | 2010    | 2011    | 2012    | 2013   | 2014    | 2015    |\n",
       "+-----------------------------+---------+---------+---------+---------+---------+---------+---------+--------+---------+---------+\n",
       "| REGION                      |         |         |         |         |         |         |         |        |         |         |\n",
       "+-----------------------------+---------+---------+---------+---------+---------+---------+---------+--------+---------+---------+\n",
       "| Total                       | 1266129 | 1052415 | 1107126 | 1130818 | 1042625 | 1062040 | 1031631 | 990553 | 1016518 | 1051031 |\n",
       "+-----------------------------+---------+---------+---------+---------+---------+---------+---------+--------+---------+---------+\n",
       "| Africa                      | 117421  | 94710   | 105915  | 127046  | 101355  | 100374  | 107241  | 98304  | 98413   | 101415  |\n",
       "+-----------------------------+---------+---------+---------+---------+---------+---------+---------+--------+---------+---------+\n",
       "| Asia                        | 440335  | 397834  | 399027  | 413312  | 422063  | 451593  | 429599  | 400548 | 430508  | 419297  |\n",
       "+-----------------------------+---------+---------+---------+---------+---------+---------+---------+--------+---------+---------+"
      ]
     },
     "execution_count": 3,
     "metadata": {},
     "output_type": "execute_result"
    }
   ],
   "source": [
    "sheet=p.get_sheet(url=base_url+\"fy2015_table3d.xls\", start_row=3)\n",
    "sheet.top()"
   ]
  },
  {
   "cell_type": "code",
   "execution_count": 4,
   "metadata": {
    "collapsed": false
   },
   "outputs": [
    {
     "data": {
      "text/html": [
       "Table 3 D:\n",
       "<table>\n",
       "<tbody>\n",
       "<tr><td>Region and country of birth</td><td style=\"text-align: right;\">  2006</td><td style=\"text-align: right;\">  2007</td><td style=\"text-align: right;\">  2008</td><td style=\"text-align: right;\">  2009</td><td style=\"text-align: right;\">  2010</td><td style=\"text-align: right;\">  2011</td><td style=\"text-align: right;\">  2012</td><td style=\"text-align: right;\">  2013</td><td style=\"text-align: right;\">  2014</td><td style=\"text-align: right;\">  2015</td></tr>\n",
       "<tr><td>Asia                       </td><td style=\"text-align: right;\">440335</td><td style=\"text-align: right;\">397834</td><td style=\"text-align: right;\">399027</td><td style=\"text-align: right;\">413312</td><td style=\"text-align: right;\">422063</td><td style=\"text-align: right;\">451593</td><td style=\"text-align: right;\">429599</td><td style=\"text-align: right;\">400548</td><td style=\"text-align: right;\">430508</td><td style=\"text-align: right;\">419297</td></tr>\n",
       "<tr><td>China, People's Republic   </td><td style=\"text-align: right;\"> 87307</td><td style=\"text-align: right;\"> 76655</td><td style=\"text-align: right;\"> 80271</td><td style=\"text-align: right;\"> 64238</td><td style=\"text-align: right;\"> 70863</td><td style=\"text-align: right;\"> 87016</td><td style=\"text-align: right;\"> 81784</td><td style=\"text-align: right;\"> 71798</td><td style=\"text-align: right;\"> 76089</td><td style=\"text-align: right;\"> 74558</td></tr>\n",
       "<tr><td>India                      </td><td style=\"text-align: right;\"> 61369</td><td style=\"text-align: right;\"> 65353</td><td style=\"text-align: right;\"> 63352</td><td style=\"text-align: right;\"> 57304</td><td style=\"text-align: right;\"> 69162</td><td style=\"text-align: right;\"> 69013</td><td style=\"text-align: right;\"> 66434</td><td style=\"text-align: right;\"> 68458</td><td style=\"text-align: right;\"> 77908</td><td style=\"text-align: right;\"> 64116</td></tr>\n",
       "</tbody>\n",
       "</table>"
      ],
      "text/plain": [
       "Table 3 D:\n",
       "+-----------------------------+--------+--------+--------+--------+--------+--------+--------+--------+--------+--------+\n",
       "| Region and country of birth | 2006   | 2007   | 2008   | 2009   | 2010   | 2011   | 2012   | 2013   | 2014   | 2015   |\n",
       "+-----------------------------+--------+--------+--------+--------+--------+--------+--------+--------+--------+--------+\n",
       "| Asia                        | 440335 | 397834 | 399027 | 413312 | 422063 | 451593 | 429599 | 400548 | 430508 | 419297 |\n",
       "+-----------------------------+--------+--------+--------+--------+--------+--------+--------+--------+--------+--------+\n",
       "| China, People's Republic    | 87307  | 76655  | 80271  | 64238  | 70863  | 87016  | 81784  | 71798  | 76089  | 74558  |\n",
       "+-----------------------------+--------+--------+--------+--------+--------+--------+--------+--------+--------+--------+\n",
       "| India                       | 61369  | 65353  | 63352  | 57304  | 69162  | 69013  | 66434  | 68458  | 77908  | 64116  |\n",
       "+-----------------------------+--------+--------+--------+--------+--------+--------+--------+--------+--------+--------+"
      ]
     },
     "execution_count": 4,
     "metadata": {},
     "output_type": "execute_result"
    }
   ],
   "source": [
    "sheet.name_rows_by_column(0)\n",
    "sheet.row.select(['Region and country of birth','Asia', 'India', 'China, People\\'s Republic'])\n",
    "sheet"
   ]
  },
  {
   "cell_type": "code",
   "execution_count": 5,
   "metadata": {
    "collapsed": false
   },
   "outputs": [
    {
     "data": {
      "text/html": [
       "Table 3 D:\n",
       "<table>\n",
       "<thead>\n",
       "<tr><th style=\"text-align: right;\">  Region and country of birth</th><th style=\"text-align: right;\">  Asia</th><th style=\"text-align: right;\">  China, People's Republic</th><th style=\"text-align: right;\">  India</th></tr>\n",
       "</thead>\n",
       "<tbody>\n",
       "<tr><td style=\"text-align: right;\">                         2006</td><td style=\"text-align: right;\">440335</td><td style=\"text-align: right;\">                     87307</td><td style=\"text-align: right;\">  61369</td></tr>\n",
       "<tr><td style=\"text-align: right;\">                         2007</td><td style=\"text-align: right;\">397834</td><td style=\"text-align: right;\">                     76655</td><td style=\"text-align: right;\">  65353</td></tr>\n",
       "<tr><td style=\"text-align: right;\">                         2008</td><td style=\"text-align: right;\">399027</td><td style=\"text-align: right;\">                     80271</td><td style=\"text-align: right;\">  63352</td></tr>\n",
       "<tr><td style=\"text-align: right;\">                         2009</td><td style=\"text-align: right;\">413312</td><td style=\"text-align: right;\">                     64238</td><td style=\"text-align: right;\">  57304</td></tr>\n",
       "<tr><td style=\"text-align: right;\">                         2010</td><td style=\"text-align: right;\">422063</td><td style=\"text-align: right;\">                     70863</td><td style=\"text-align: right;\">  69162</td></tr>\n",
       "<tr><td style=\"text-align: right;\">                         2011</td><td style=\"text-align: right;\">451593</td><td style=\"text-align: right;\">                     87016</td><td style=\"text-align: right;\">  69013</td></tr>\n",
       "<tr><td style=\"text-align: right;\">                         2012</td><td style=\"text-align: right;\">429599</td><td style=\"text-align: right;\">                     81784</td><td style=\"text-align: right;\">  66434</td></tr>\n",
       "<tr><td style=\"text-align: right;\">                         2013</td><td style=\"text-align: right;\">400548</td><td style=\"text-align: right;\">                     71798</td><td style=\"text-align: right;\">  68458</td></tr>\n",
       "<tr><td style=\"text-align: right;\">                         2014</td><td style=\"text-align: right;\">430508</td><td style=\"text-align: right;\">                     76089</td><td style=\"text-align: right;\">  77908</td></tr>\n",
       "<tr><td style=\"text-align: right;\">                         2015</td><td style=\"text-align: right;\">419297</td><td style=\"text-align: right;\">                     74558</td><td style=\"text-align: right;\">  64116</td></tr>\n",
       "</tbody>\n",
       "</table>"
      ],
      "text/plain": [
       "Table 3 D:\n",
       "+-----------------------------+--------+--------------------------+-------+\n",
       "| Region and country of birth |  Asia  | China, People's Republic | India |\n",
       "+=============================+========+==========================+=======+\n",
       "| 2006                        | 440335 | 87307                    | 61369 |\n",
       "+-----------------------------+--------+--------------------------+-------+\n",
       "| 2007                        | 397834 | 76655                    | 65353 |\n",
       "+-----------------------------+--------+--------------------------+-------+\n",
       "| 2008                        | 399027 | 80271                    | 63352 |\n",
       "+-----------------------------+--------+--------------------------+-------+\n",
       "| 2009                        | 413312 | 64238                    | 57304 |\n",
       "+-----------------------------+--------+--------------------------+-------+\n",
       "| 2010                        | 422063 | 70863                    | 69162 |\n",
       "+-----------------------------+--------+--------------------------+-------+\n",
       "| 2011                        | 451593 | 87016                    | 69013 |\n",
       "+-----------------------------+--------+--------------------------+-------+\n",
       "| 2012                        | 429599 | 81784                    | 66434 |\n",
       "+-----------------------------+--------+--------------------------+-------+\n",
       "| 2013                        | 400548 | 71798                    | 68458 |\n",
       "+-----------------------------+--------+--------------------------+-------+\n",
       "| 2014                        | 430508 | 76089                    | 77908 |\n",
       "+-----------------------------+--------+--------------------------+-------+\n",
       "| 2015                        | 419297 | 74558                    | 64116 |\n",
       "+-----------------------------+--------+--------------------------+-------+"
      ]
     },
     "execution_count": 5,
     "metadata": {},
     "output_type": "execute_result"
    }
   ],
   "source": [
    "sheet.transpose()\n",
    "sheet"
   ]
  },
  {
   "cell_type": "code",
   "execution_count": 6,
   "metadata": {
    "collapsed": false
   },
   "outputs": [
    {
     "data": {
      "image/svg+xml": [
       "<?xml version='1.0' encoding='utf-8'?>\n",
       "<svg xmlns:xlink=\"http://www.w3.org/1999/xlink\" class=\"pygal-chart\" id=\"chart-e8ab0017-7da2-481d-891c-0e681c207093\" viewBox=\"0 0 800 600\" xmlns=\"http://www.w3.org/2000/svg\"><!--Generated with pygal 2.3.1 (etree) ©Kozea 2012-2016 on 2017-02-08--><!--http://pygal.org--><!--http://github.com/Kozea/pygal--><defs><style type=\"text/css\">#chart-e8ab0017-7da2-481d-891c-0e681c207093{-webkit-user-select:none;-webkit-font-smoothing:antialiased;font-family:Consolas,\"Liberation Mono\",Menlo,Courier,monospace}#chart-e8ab0017-7da2-481d-891c-0e681c207093 .title{font-family:Consolas,\"Liberation Mono\",Menlo,Courier,monospace;font-size:16px}#chart-e8ab0017-7da2-481d-891c-0e681c207093 .legends .legend text{font-family:Consolas,\"Liberation Mono\",Menlo,Courier,monospace;font-size:14px}#chart-e8ab0017-7da2-481d-891c-0e681c207093 .axis text{font-family:Consolas,\"Liberation Mono\",Menlo,Courier,monospace;font-size:10px}#chart-e8ab0017-7da2-481d-891c-0e681c207093 .axis text.major{font-family:Consolas,\"Liberation Mono\",Menlo,Courier,monospace;font-size:10px}#chart-e8ab0017-7da2-481d-891c-0e681c207093 .text-overlay text.value{font-family:Consolas,\"Liberation Mono\",Menlo,Courier,monospace;font-size:16px}#chart-e8ab0017-7da2-481d-891c-0e681c207093 .text-overlay text.label{font-family:Consolas,\"Liberation Mono\",Menlo,Courier,monospace;font-size:10px}#chart-e8ab0017-7da2-481d-891c-0e681c207093 .tooltip{font-family:Consolas,\"Liberation Mono\",Menlo,Courier,monospace;font-size:14px}#chart-e8ab0017-7da2-481d-891c-0e681c207093 text.no_data{font-family:Consolas,\"Liberation Mono\",Menlo,Courier,monospace;font-size:64px}\n",
       "#chart-e8ab0017-7da2-481d-891c-0e681c207093{background-color:rgba(249,249,249,1)}#chart-e8ab0017-7da2-481d-891c-0e681c207093 path,#chart-e8ab0017-7da2-481d-891c-0e681c207093 line,#chart-e8ab0017-7da2-481d-891c-0e681c207093 rect,#chart-e8ab0017-7da2-481d-891c-0e681c207093 circle{-webkit-transition:150ms;-moz-transition:150ms;transition:150ms}#chart-e8ab0017-7da2-481d-891c-0e681c207093 .graph &gt; .background{fill:rgba(249,249,249,1)}#chart-e8ab0017-7da2-481d-891c-0e681c207093 .plot &gt; .background{fill:rgba(255,255,255,1)}#chart-e8ab0017-7da2-481d-891c-0e681c207093 .graph{fill:rgba(0,0,0,.87)}#chart-e8ab0017-7da2-481d-891c-0e681c207093 text.no_data{fill:rgba(0,0,0,1)}#chart-e8ab0017-7da2-481d-891c-0e681c207093 .title{fill:rgba(0,0,0,1)}#chart-e8ab0017-7da2-481d-891c-0e681c207093 .legends .legend text{fill:rgba(0,0,0,.87)}#chart-e8ab0017-7da2-481d-891c-0e681c207093 .legends .legend:hover text{fill:rgba(0,0,0,1)}#chart-e8ab0017-7da2-481d-891c-0e681c207093 .axis .line{stroke:rgba(0,0,0,1)}#chart-e8ab0017-7da2-481d-891c-0e681c207093 .axis .guide.line{stroke:rgba(0,0,0,.54)}#chart-e8ab0017-7da2-481d-891c-0e681c207093 .axis .major.line{stroke:rgba(0,0,0,.87)}#chart-e8ab0017-7da2-481d-891c-0e681c207093 .axis text.major{fill:rgba(0,0,0,1)}#chart-e8ab0017-7da2-481d-891c-0e681c207093 .axis.y .guides:hover .guide.line,#chart-e8ab0017-7da2-481d-891c-0e681c207093 .line-graph .axis.x .guides:hover .guide.line,#chart-e8ab0017-7da2-481d-891c-0e681c207093 .stackedline-graph .axis.x .guides:hover .guide.line,#chart-e8ab0017-7da2-481d-891c-0e681c207093 .xy-graph .axis.x .guides:hover .guide.line{stroke:rgba(0,0,0,1)}#chart-e8ab0017-7da2-481d-891c-0e681c207093 .axis .guides:hover text{fill:rgba(0,0,0,1)}#chart-e8ab0017-7da2-481d-891c-0e681c207093 .reactive{fill-opacity:.7;stroke-opacity:.8}#chart-e8ab0017-7da2-481d-891c-0e681c207093 .ci{stroke:rgba(0,0,0,.87)}#chart-e8ab0017-7da2-481d-891c-0e681c207093 .reactive.active,#chart-e8ab0017-7da2-481d-891c-0e681c207093 .active .reactive{fill-opacity:.8;stroke-opacity:.9;stroke-width:4}#chart-e8ab0017-7da2-481d-891c-0e681c207093 .ci .reactive.active{stroke-width:1.5}#chart-e8ab0017-7da2-481d-891c-0e681c207093 .series text{fill:rgba(0,0,0,1)}#chart-e8ab0017-7da2-481d-891c-0e681c207093 .tooltip rect{fill:rgba(255,255,255,1);stroke:rgba(0,0,0,1);-webkit-transition:opacity 150ms;-moz-transition:opacity 150ms;transition:opacity 150ms}#chart-e8ab0017-7da2-481d-891c-0e681c207093 .tooltip .label{fill:rgba(0,0,0,.87)}#chart-e8ab0017-7da2-481d-891c-0e681c207093 .tooltip .label{fill:rgba(0,0,0,.87)}#chart-e8ab0017-7da2-481d-891c-0e681c207093 .tooltip .legend{font-size:.8em;fill:rgba(0,0,0,.54)}#chart-e8ab0017-7da2-481d-891c-0e681c207093 .tooltip .x_label{font-size:.6em;fill:rgba(0,0,0,1)}#chart-e8ab0017-7da2-481d-891c-0e681c207093 .tooltip .xlink{font-size:.5em;text-decoration:underline}#chart-e8ab0017-7da2-481d-891c-0e681c207093 .tooltip .value{font-size:1.5em}#chart-e8ab0017-7da2-481d-891c-0e681c207093 .bound{font-size:.5em}#chart-e8ab0017-7da2-481d-891c-0e681c207093 .max-value{font-size:.75em;fill:rgba(0,0,0,.54)}#chart-e8ab0017-7da2-481d-891c-0e681c207093 .map-element{fill:rgba(255,255,255,1);stroke:rgba(0,0,0,.54) !important}#chart-e8ab0017-7da2-481d-891c-0e681c207093 .map-element .reactive{fill-opacity:inherit;stroke-opacity:inherit}#chart-e8ab0017-7da2-481d-891c-0e681c207093 .color-0,#chart-e8ab0017-7da2-481d-891c-0e681c207093 .color-0 a:visited{stroke:#F44336;fill:#F44336}#chart-e8ab0017-7da2-481d-891c-0e681c207093 .color-1,#chart-e8ab0017-7da2-481d-891c-0e681c207093 .color-1 a:visited{stroke:#3F51B5;fill:#3F51B5}#chart-e8ab0017-7da2-481d-891c-0e681c207093 .color-2,#chart-e8ab0017-7da2-481d-891c-0e681c207093 .color-2 a:visited{stroke:#009688;fill:#009688}#chart-e8ab0017-7da2-481d-891c-0e681c207093 .text-overlay .color-0 text{fill:black}#chart-e8ab0017-7da2-481d-891c-0e681c207093 .text-overlay .color-1 text{fill:black}#chart-e8ab0017-7da2-481d-891c-0e681c207093 .text-overlay .color-2 text{fill:black}\n",
       "#chart-e8ab0017-7da2-481d-891c-0e681c207093 text.no_data{text-anchor:middle}#chart-e8ab0017-7da2-481d-891c-0e681c207093 .guide.line{fill:none}#chart-e8ab0017-7da2-481d-891c-0e681c207093 .centered{text-anchor:middle}#chart-e8ab0017-7da2-481d-891c-0e681c207093 .title{text-anchor:middle}#chart-e8ab0017-7da2-481d-891c-0e681c207093 .legends .legend text{fill-opacity:1}#chart-e8ab0017-7da2-481d-891c-0e681c207093 .axis.x text{text-anchor:middle}#chart-e8ab0017-7da2-481d-891c-0e681c207093 .axis.x:not(.web) text[transform]{text-anchor:start}#chart-e8ab0017-7da2-481d-891c-0e681c207093 .axis.x:not(.web) text[transform].backwards{text-anchor:end}#chart-e8ab0017-7da2-481d-891c-0e681c207093 .axis.y text{text-anchor:end}#chart-e8ab0017-7da2-481d-891c-0e681c207093 .axis.y text[transform].backwards{text-anchor:start}#chart-e8ab0017-7da2-481d-891c-0e681c207093 .axis.y2 text{text-anchor:start}#chart-e8ab0017-7da2-481d-891c-0e681c207093 .axis.y2 text[transform].backwards{text-anchor:end}#chart-e8ab0017-7da2-481d-891c-0e681c207093 .axis .guide.line{stroke-dasharray:4,4}#chart-e8ab0017-7da2-481d-891c-0e681c207093 .axis .major.guide.line{stroke-dasharray:6,6}#chart-e8ab0017-7da2-481d-891c-0e681c207093 .horizontal .axis.y .guide.line,#chart-e8ab0017-7da2-481d-891c-0e681c207093 .horizontal .axis.y2 .guide.line,#chart-e8ab0017-7da2-481d-891c-0e681c207093 .vertical .axis.x .guide.line{opacity:0}#chart-e8ab0017-7da2-481d-891c-0e681c207093 .horizontal .axis.always_show .guide.line,#chart-e8ab0017-7da2-481d-891c-0e681c207093 .vertical .axis.always_show .guide.line{opacity:1 !important}#chart-e8ab0017-7da2-481d-891c-0e681c207093 .axis.y .guides:hover .guide.line,#chart-e8ab0017-7da2-481d-891c-0e681c207093 .axis.y2 .guides:hover .guide.line,#chart-e8ab0017-7da2-481d-891c-0e681c207093 .axis.x .guides:hover .guide.line{opacity:1}#chart-e8ab0017-7da2-481d-891c-0e681c207093 .axis .guides:hover text{opacity:1}#chart-e8ab0017-7da2-481d-891c-0e681c207093 .nofill{fill:none}#chart-e8ab0017-7da2-481d-891c-0e681c207093 .subtle-fill{fill-opacity:.2}#chart-e8ab0017-7da2-481d-891c-0e681c207093 .dot{stroke-width:1px;fill-opacity:1}#chart-e8ab0017-7da2-481d-891c-0e681c207093 .dot.active{stroke-width:5px}#chart-e8ab0017-7da2-481d-891c-0e681c207093 .dot.negative{fill:transparent}#chart-e8ab0017-7da2-481d-891c-0e681c207093 text,#chart-e8ab0017-7da2-481d-891c-0e681c207093 tspan{stroke:none !important}#chart-e8ab0017-7da2-481d-891c-0e681c207093 .series text.active{opacity:1}#chart-e8ab0017-7da2-481d-891c-0e681c207093 .tooltip rect{fill-opacity:.95;stroke-width:.5}#chart-e8ab0017-7da2-481d-891c-0e681c207093 .tooltip text{fill-opacity:1}#chart-e8ab0017-7da2-481d-891c-0e681c207093 .showable{visibility:hidden}#chart-e8ab0017-7da2-481d-891c-0e681c207093 .showable.shown{visibility:visible}#chart-e8ab0017-7da2-481d-891c-0e681c207093 .gauge-background{fill:rgba(229,229,229,1);stroke:none}#chart-e8ab0017-7da2-481d-891c-0e681c207093 .bg-lines{stroke:rgba(249,249,249,1);stroke-width:2px}</style><script type=\"text/javascript\">window.pygal = window.pygal || {};window.pygal.config = window.pygal.config || {};window.pygal.config['e8ab0017-7da2-481d-891c-0e681c207093'] = {\"margin_bottom\": null, \"height\": 600, \"dots_size\": 2.5, \"y_label_rotation\": 0, \"formatter\": null, \"legends\": [\"Asia\", \"China, People's Republic\", \"India\"], \"half_pie\": false, \"show_minor_x_labels\": true, \"inner_radius\": 0, \"x_labels\": [\"2006\", \"2007\", \"2008\", \"2009\", \"2010\", \"2011\", \"2012\", \"2013\", \"2014\", \"2015\"], \"stack_from_top\": false, \"title\": \"pyexcel chart rendered by pygal\", \"rounded_bars\": null, \"margin\": 20, \"margin_left\": null, \"show_y_guides\": true, \"show_y_labels\": true, \"min_scale\": 4, \"css\": [\"file://style.css\", \"file://graph.css\"], \"y_labels_major_every\": null, \"print_values\": false, \"print_zeroes\": true, \"allow_interruptions\": false, \"strict\": false, \"js\": [\"//kozea.github.io/pygal.js/2.0.x/pygal-tooltips.min.js\"], \"x_labels_major_count\": null, \"y_labels\": null, \"explicit_size\": false, \"missing_value_fill_truncation\": \"x\", \"show_dots\": true, \"force_uri_protocol\": \"https\", \"classes\": [\"pygal-chart\"], \"show_legend\": true, \"show_x_labels\": true, \"secondary_range\": null, \"spacing\": 10, \"margin_right\": null, \"box_mode\": \"extremes\", \"show_x_guides\": false, \"tooltip_fancy_mode\": true, \"logarithmic\": false, \"stroke\": true, \"include_x_axis\": false, \"order_min\": null, \"defs\": [], \"disable_xml_declaration\": false, \"print_values_position\": \"center\", \"show_only_major_dots\": false, \"range\": null, \"interpolation_parameters\": {}, \"stroke_style\": null, \"style\": {\"tooltip_font_family\": \"Consolas, \\\"Liberation Mono\\\", Menlo, Courier, monospace\", \"transition\": \"150ms\", \"value_colors\": [], \"value_font_family\": \"Consolas, \\\"Liberation Mono\\\", Menlo, Courier, monospace\", \"label_font_family\": \"Consolas, \\\"Liberation Mono\\\", Menlo, Courier, monospace\", \"ci_colors\": [], \"stroke_opacity_hover\": \".9\", \"foreground_subtle\": \"rgba(0, 0, 0, .54)\", \"value_label_font_size\": 10, \"colors\": [\"#F44336\", \"#3F51B5\", \"#009688\", \"#FFC107\", \"#FF5722\", \"#9C27B0\", \"#03A9F4\", \"#8BC34A\", \"#FF9800\", \"#E91E63\", \"#2196F3\", \"#4CAF50\", \"#FFEB3B\", \"#673AB7\", \"#00BCD4\", \"#CDDC39\", \"#9E9E9E\", \"#607D8B\"], \"value_label_font_family\": \"Consolas, \\\"Liberation Mono\\\", Menlo, Courier, monospace\", \"foreground\": \"rgba(0, 0, 0, .87)\", \"guide_stroke_dasharray\": \"4,4\", \"tooltip_font_size\": 14, \"label_font_size\": 10, \"no_data_font_family\": \"Consolas, \\\"Liberation Mono\\\", Menlo, Courier, monospace\", \"legend_font_size\": 14, \"opacity\": \".7\", \"title_font_size\": 16, \"major_guide_stroke_dasharray\": \"6,6\", \"plot_background\": \"rgba(255, 255, 255, 1)\", \"value_background\": \"rgba(229, 229, 229, 1)\", \"font_family\": \"Consolas, \\\"Liberation Mono\\\", Menlo, Courier, monospace\", \"title_font_family\": \"Consolas, \\\"Liberation Mono\\\", Menlo, Courier, monospace\", \"legend_font_family\": \"Consolas, \\\"Liberation Mono\\\", Menlo, Courier, monospace\", \"major_label_font_size\": 10, \"value_font_size\": 16, \"background\": \"rgba(249, 249, 249, 1)\", \"stroke_opacity\": \".8\", \"opacity_hover\": \".8\", \"no_data_font_size\": 64, \"foreground_strong\": \"rgba(0, 0, 0, 1)\", \"major_label_font_family\": \"Consolas, \\\"Liberation Mono\\\", Menlo, Courier, monospace\"}, \"fill\": false, \"tooltip_border_radius\": 0, \"xrange\": null, \"margin_top\": null, \"legend_at_bottom\": false, \"dynamic_print_values\": false, \"x_labels_major\": null, \"interpolation_precision\": 250, \"no_prefix\": false, \"x_labels_major_every\": null, \"y_labels_major_count\": null, \"inverse_y_axis\": false, \"y_labels_major\": null, \"x_title\": null, \"width\": 800, \"no_data_text\": \"No data\", \"legend_at_bottom_columns\": null, \"legend_box_size\": 12, \"max_scale\": 16, \"show_minor_y_labels\": true, \"print_labels\": false, \"truncate_label\": null, \"pretty_print\": false, \"interpolate\": null, \"y_title\": null, \"x_label_rotation\": 0, \"truncate_legend\": null, \"zero\": 0}</script><script type=\"text/javascript\" xlink:href=\"https://kozea.github.io/pygal.js/2.0.x/pygal-tooltips.min.js\" /></defs><title>pyexcel chart rendered by pygal</title><g class=\"graph line-graph vertical\"><rect class=\"background\" height=\"600\" width=\"800\" x=\"0\" y=\"0\" /><g class=\"plot\" transform=\"translate(214, 46)\"><rect class=\"background\" height=\"514\" width=\"566.0\" x=\"0\" y=\"0\" /><g class=\"axis y\"><path class=\"line\" d=\"M0.000000 514.000000 h566.000000\" /><g class=\"guides\"><path class=\"guide line\" d=\"M0.000000 475.666553 h566.000000\" /><text class=\"\" x=\"-5\" y=\"479.16655256969847\">80000</text><title>80000</title></g><g class=\"guides\"><path class=\"guide line\" d=\"M0.000000 425.527617 h566.000000\" /><text class=\"\" x=\"-5\" y=\"429.02761699393864\">120000</text><title>120000</title></g><g class=\"guides\"><path class=\"guide line\" d=\"M0.000000 375.388681 h566.000000\" /><text class=\"\" x=\"-5\" y=\"378.88868141817886\">160000</text><title>160000</title></g><g class=\"guides\"><path class=\"guide line\" d=\"M0.000000 325.249746 h566.000000\" /><text class=\"\" x=\"-5\" y=\"328.749745842419\">200000</text><title>200000</title></g><g class=\"guides\"><path class=\"guide line\" d=\"M0.000000 275.110810 h566.000000\" /><text class=\"\" x=\"-5\" y=\"278.6108102666592\">240000</text><title>240000</title></g><g class=\"guides\"><path class=\"guide line\" d=\"M0.000000 224.971875 h566.000000\" /><text class=\"\" x=\"-5\" y=\"228.47187469089937\">280000</text><title>280000</title></g><g class=\"guides\"><path class=\"guide line\" d=\"M0.000000 174.832939 h566.000000\" /><text class=\"\" x=\"-5\" y=\"178.33293911513948\">320000</text><title>320000</title></g><g class=\"guides\"><path class=\"guide line\" d=\"M0.000000 124.694004 h566.000000\" /><text class=\"\" x=\"-5\" y=\"128.19400353937965\">360000</text><title>360000</title></g><g class=\"guides\"><path class=\"guide line\" d=\"M0.000000 74.555068 h566.000000\" /><text class=\"\" x=\"-5\" y=\"78.05506796361982\">400000</text><title>400000</title></g><g class=\"guides\"><path class=\"guide line\" d=\"M0.000000 24.416132 h566.000000\" /><text class=\"\" x=\"-5\" y=\"27.91613238785999\">440000</text><title>440000</title></g></g><g class=\"axis x\"><g class=\"guides\"><path class=\"line\" d=\"M10.884615 0.000000 v514.000000\" /><text class=\"\" x=\"10.884615384615385\" y=\"529.0\">2006</text></g><g class=\"guides\"><path class=\"guide line\" d=\"M71.354701 0.000000 v514.000000\" /><text class=\"\" x=\"71.35470085470084\" y=\"529.0\">2007</text></g><g class=\"guides\"><path class=\"guide line\" d=\"M131.824786 0.000000 v514.000000\" /><text class=\"\" x=\"131.82478632478632\" y=\"529.0\">2008</text></g><g class=\"guides\"><path class=\"guide line\" d=\"M192.294872 0.000000 v514.000000\" /><text class=\"\" x=\"192.2948717948718\" y=\"529.0\">2009</text></g><g class=\"guides\"><path class=\"guide line\" d=\"M252.764957 0.000000 v514.000000\" /><text class=\"\" x=\"252.76495726495725\" y=\"529.0\">2010</text></g><g class=\"guides\"><path class=\"guide line\" d=\"M313.235043 0.000000 v514.000000\" /><text class=\"\" x=\"313.2350427350427\" y=\"529.0\">2011</text></g><g class=\"guides\"><path class=\"guide line\" d=\"M373.705128 0.000000 v514.000000\" /><text class=\"\" x=\"373.7051282051282\" y=\"529.0\">2012</text></g><g class=\"guides\"><path class=\"guide line\" d=\"M434.175214 0.000000 v514.000000\" /><text class=\"\" x=\"434.1752136752137\" y=\"529.0\">2013</text></g><g class=\"guides\"><path class=\"guide line\" d=\"M494.645299 0.000000 v514.000000\" /><text class=\"\" x=\"494.64529914529913\" y=\"529.0\">2014</text></g><g class=\"guides\"><path class=\"guide line\" d=\"M555.115385 0.000000 v514.000000\" /><text class=\"\" x=\"555.1153846153846\" y=\"529.0\">2015</text></g></g><g class=\"series serie-0 color-0\"><path class=\"line reactive nofill\" d=\"M10.884615 23.996219 L71.354701 77.270091 131.824786 75.774698 192.294872 57.868830 252.764957 46.899685 313.235043 9.884615 373.705128 37.453509 434.175214 73.868165 494.645299 36.314102 555.115385 50.366792\" /></g><g class=\"series serie-1 color-1\"><path class=\"line reactive nofill\" d=\"M10.884615 466.507423 L71.354701 479.859421 131.824786 475.326861 192.294872 495.423800 252.764957 487.119539 313.235043 466.872183 373.705128 473.430356 434.175214 485.947541 494.645299 480.568887 555.115385 482.487955\" /></g><g class=\"series serie-2 color-2\"><path class=\"line reactive nofill\" d=\"M10.884615 499.020015 L71.354701 494.026177 131.824786 496.534378 192.294872 504.115385 252.764957 489.251697 313.235043 489.438465 373.705128 492.671173 434.175214 490.134142 494.645299 478.288819 555.115385 495.576724\" /></g></g><g class=\"titles\"><text class=\"title plot_title\" x=\"400.0\" y=\"26\">pyexcel chart rendered by pygal</text></g><g class=\"plot overlay\" transform=\"translate(214, 46)\"><g class=\"series serie-0 color-0\"><g class=\"dots\"><circle class=\"dot reactive tooltip-trigger\" cx=\"10.884615384615385\" cy=\"23.99621880241301\" r=\"2.5\" /><desc class=\"value\">440335</desc><desc class=\"x \">10.884615384615385</desc><desc class=\"y \">23.99621880241301</desc><desc class=\"x_label\">2006</desc></g><g class=\"dots\"><circle class=\"dot reactive tooltip-trigger\" cx=\"71.35470085470084\" cy=\"77.27009132504725\" r=\"2.5\" /><desc class=\"value\">397834</desc><desc class=\"x \">71.35470085470084</desc><desc class=\"y \">77.27009132504725</desc><desc class=\"x_label\">2007</desc></g><g class=\"dots\"><circle class=\"dot reactive tooltip-trigger\" cx=\"131.82478632478632\" cy=\"75.77469757150021\" r=\"2.5\" /><desc class=\"value\">399027</desc><desc class=\"x \">131.82478632478632</desc><desc class=\"y \">75.77469757150021</desc><desc class=\"x_label\">2008</desc></g><g class=\"dots\"><circle class=\"dot reactive tooltip-trigger\" cx=\"192.2948717948718\" cy=\"57.86883020400694\" r=\"2.5\" /><desc class=\"value\">413312</desc><desc class=\"x \">192.2948717948718</desc><desc class=\"y \">57.86883020400694</desc><desc class=\"x_label\">2009</desc></g><g class=\"dots\"><circle class=\"dot reactive tooltip-trigger\" cx=\"252.76495726495725\" cy=\"46.89968457342013\" r=\"2.5\" /><desc class=\"value\">422063</desc><desc class=\"x \">252.76495726495725</desc><desc class=\"y \">46.89968457342013</desc><desc class=\"x_label\">2010</desc></g><g class=\"dots\"><circle class=\"dot reactive tooltip-trigger\" cx=\"313.2350427350427\" cy=\"9.884615384615415\" r=\"2.5\" /><desc class=\"value\">451593</desc><desc class=\"x left\">313.2350427350427</desc><desc class=\"y left\">9.884615384615415</desc><desc class=\"x_label\">2011</desc></g><g class=\"dots\"><circle class=\"dot reactive tooltip-trigger\" cx=\"373.7051282051282\" cy=\"37.45350911094698\" r=\"2.5\" /><desc class=\"value\">429599</desc><desc class=\"x left\">373.7051282051282</desc><desc class=\"y left\">37.45350911094698</desc><desc class=\"x_label\">2012</desc></g><g class=\"dots\"><circle class=\"dot reactive tooltip-trigger\" cx=\"434.1752136752137\" cy=\"73.86816454623192\" r=\"2.5\" /><desc class=\"value\">400548</desc><desc class=\"x left\">434.1752136752137</desc><desc class=\"y left\">73.86816454623192</desc><desc class=\"x_label\">2013</desc></g><g class=\"dots\"><circle class=\"dot reactive tooltip-trigger\" cx=\"494.64529914529913\" cy=\"36.31410179998784\" r=\"2.5\" /><desc class=\"value\">430508</desc><desc class=\"x left\">494.64529914529913</desc><desc class=\"y left\">36.31410179998784</desc><desc class=\"x_label\">2014</desc></g><g class=\"dots\"><circle class=\"dot reactive tooltip-trigger\" cx=\"555.1153846153846\" cy=\"50.36679196848388\" r=\"2.5\" /><desc class=\"value\">419297</desc><desc class=\"x left\">555.1153846153846</desc><desc class=\"y left\">50.36679196848388</desc><desc class=\"x_label\">2015</desc></g></g><g class=\"series serie-1 color-1\"><g class=\"dots\"><circle class=\"dot reactive tooltip-trigger\" cx=\"10.884615384615385\" cy=\"466.5074225133966\" r=\"2.5\" /><desc class=\"value\">87307</desc><desc class=\"x top\">10.884615384615385</desc><desc class=\"y top\">466.5074225133966</desc><desc class=\"x_label\">2006</desc></g><g class=\"dots\"><circle class=\"dot reactive tooltip-trigger\" cx=\"71.35470085470084\" cy=\"479.8594210572214\" r=\"2.5\" /><desc class=\"value\">76655</desc><desc class=\"x top\">71.35470085470084</desc><desc class=\"y top\">479.8594210572214</desc><desc class=\"x_label\">2007</desc></g><g class=\"dots\"><circle class=\"dot reactive tooltip-trigger\" cx=\"131.82478632478632\" cy=\"475.32686128117274\" r=\"2.5\" /><desc class=\"value\">80271</desc><desc class=\"x top\">131.82478632478632</desc><desc class=\"y top\">475.32686128117274</desc><desc class=\"x_label\">2008</desc></g><g class=\"dots\"><circle class=\"dot reactive tooltip-trigger\" cx=\"192.2948717948718\" cy=\"495.42380013332667\" r=\"2.5\" /><desc class=\"value\">64238</desc><desc class=\"x top\">192.2948717948718</desc><desc class=\"y top\">495.42380013332667</desc><desc class=\"x_label\">2009</desc></g><g class=\"dots\"><circle class=\"dot reactive tooltip-trigger\" cx=\"252.76495726495725\" cy=\"487.11953892859145\" r=\"2.5\" /><desc class=\"value\">70863</desc><desc class=\"x top\">252.76495726495725</desc><desc class=\"y top\">487.11953892859145</desc><desc class=\"x_label\">2010</desc></g><g class=\"dots\"><circle class=\"dot reactive tooltip-trigger\" cx=\"313.2350427350427\" cy=\"466.8721832697102\" r=\"2.5\" /><desc class=\"value\">87016</desc><desc class=\"x left top\">313.2350427350427</desc><desc class=\"y left top\">466.8721832697102</desc><desc class=\"x_label\">2011</desc></g><g class=\"dots\"><circle class=\"dot reactive tooltip-trigger\" cx=\"373.7051282051282\" cy=\"473.43035604301963\" r=\"2.5\" /><desc class=\"value\">81784</desc><desc class=\"x left top\">373.7051282051282</desc><desc class=\"y left top\">473.43035604301963</desc><desc class=\"x_label\">2012</desc></g><g class=\"dots\"><circle class=\"dot reactive tooltip-trigger\" cx=\"434.1752136752137\" cy=\"485.94754130950804\" r=\"2.5\" /><desc class=\"value\">71798</desc><desc class=\"x left top\">434.1752136752137</desc><desc class=\"y left top\">485.94754130950804</desc><desc class=\"x_label\">2013</desc></g><g class=\"dots\"><circle class=\"dot reactive tooltip-trigger\" cx=\"494.64529914529913\" cy=\"480.5688869956184\" r=\"2.5\" /><desc class=\"value\">76089</desc><desc class=\"x left top\">494.64529914529913</desc><desc class=\"y left top\">480.5688869956184</desc><desc class=\"x_label\">2014</desc></g><g class=\"dots\"><circle class=\"dot reactive tooltip-trigger\" cx=\"555.1153846153846\" cy=\"482.4879547547806\" r=\"2.5\" /><desc class=\"value\">74558</desc><desc class=\"x left top\">555.1153846153846</desc><desc class=\"y left top\">482.4879547547806</desc><desc class=\"x_label\">2015</desc></g></g><g class=\"series serie-2 color-2\"><g class=\"dots\"><circle class=\"dot reactive tooltip-trigger\" cx=\"10.884615384615385\" cy=\"499.02001528749804\" r=\"2.5\" /><desc class=\"value\">61369</desc><desc class=\"x top\">10.884615384615385</desc><desc class=\"y top\">499.02001528749804</desc><desc class=\"x_label\">2006</desc></g><g class=\"dots\"><circle class=\"dot reactive tooltip-trigger\" cx=\"71.35470085470084\" cy=\"494.0261773041523\" r=\"2.5\" /><desc class=\"value\">65353</desc><desc class=\"x top\">71.35470085470084</desc><desc class=\"y top\">494.0261773041523</desc><desc class=\"x_label\">2007</desc></g><g class=\"dots\"><circle class=\"dot reactive tooltip-trigger\" cx=\"131.82478632478632\" cy=\"496.53437755632973\" r=\"2.5\" /><desc class=\"value\">63352</desc><desc class=\"x top\">131.82478632478632</desc><desc class=\"y top\">496.53437755632973</desc><desc class=\"x_label\">2008</desc></g><g class=\"dots\"><circle class=\"dot reactive tooltip-trigger\" cx=\"192.2948717948718\" cy=\"504.11538461538464\" r=\"2.5\" /><desc class=\"value\">57304</desc><desc class=\"x top\">192.2948717948718</desc><desc class=\"y top\">504.11538461538464</desc><desc class=\"x_label\">2009</desc></g><g class=\"dots\"><circle class=\"dot reactive tooltip-trigger\" cx=\"252.76495726495725\" cy=\"489.2516971639506\" r=\"2.5\" /><desc class=\"value\">69162</desc><desc class=\"x top\">252.76495726495725</desc><desc class=\"y top\">489.2516971639506</desc><desc class=\"x_label\">2010</desc></g><g class=\"dots\"><circle class=\"dot reactive tooltip-trigger\" cx=\"313.2350427350427\" cy=\"489.43846469897034\" r=\"2.5\" /><desc class=\"value\">69013</desc><desc class=\"x left top\">313.2350427350427</desc><desc class=\"y left top\">489.43846469897034</desc><desc class=\"x_label\">2011</desc></g><g class=\"dots\"><circle class=\"dot reactive tooltip-trigger\" cx=\"373.7051282051282\" cy=\"492.67117257021744\" r=\"2.5\" /><desc class=\"value\">66434</desc><desc class=\"x left top\">373.7051282051282</desc><desc class=\"y left top\">492.67117257021744</desc><desc class=\"x_label\">2012</desc></g><g class=\"dots\"><circle class=\"dot reactive tooltip-trigger\" cx=\"434.1752136752137\" cy=\"490.134142430084\" r=\"2.5\" /><desc class=\"value\">68458</desc><desc class=\"x left top\">434.1752136752137</desc><desc class=\"y left top\">490.134142430084</desc><desc class=\"x_label\">2013</desc></g><g class=\"dots\"><circle class=\"dot reactive tooltip-trigger\" cx=\"494.64529914529913\" cy=\"478.28881890031073\" r=\"2.5\" /><desc class=\"value\">77908</desc><desc class=\"x left top\">494.64529914529913</desc><desc class=\"y left top\">478.28881890031073</desc><desc class=\"x_label\">2014</desc></g><g class=\"dots\"><circle class=\"dot reactive tooltip-trigger\" cx=\"555.1153846153846\" cy=\"495.5767238868327\" r=\"2.5\" /><desc class=\"value\">64116</desc><desc class=\"x left top\">555.1153846153846</desc><desc class=\"y left top\">495.5767238868327</desc><desc class=\"x_label\">2015</desc></g></g></g><g class=\"plot text-overlay\" transform=\"translate(214, 46)\"><g class=\"series serie-0 color-0\" /><g class=\"series serie-1 color-1\" /><g class=\"series serie-2 color-2\" /></g><g class=\"plot tooltip-overlay\" transform=\"translate(214, 46)\"><g class=\"tooltip\" style=\"opacity: 0\" transform=\"translate(0 0)\"><rect class=\"tooltip-box\" height=\"0\" rx=\"0\" ry=\"0\" width=\"0\" /><g class=\"text\" /></g></g><g class=\"legends\" transform=\"translate(10, 56)\"><g class=\"legend reactive activate-serie\" id=\"activate-serie-0\"><rect class=\"color-0 reactive\" height=\"12\" width=\"12\" x=\"0.0\" y=\"1.0\" /><text x=\"17.0\" y=\"11.2\">Asia</text></g><g class=\"legend reactive activate-serie\" id=\"activate-serie-1\"><rect class=\"color-1 reactive\" height=\"12\" width=\"12\" x=\"0.0\" y=\"22.0\" /><text x=\"17.0\" y=\"32.2\">China, People'…</text><title>China, People's Republic</title></g><g class=\"legend reactive activate-serie\" id=\"activate-serie-2\"><rect class=\"color-2 reactive\" height=\"12\" width=\"12\" x=\"0.0\" y=\"43.0\" /><text x=\"17.0\" y=\"53.2\">India</text></g></g><g class=\"legends\" transform=\"translate(790, 56)\" /></g></svg>"
      ],
      "text/plain": [
       "<_io.BytesIO at 0x106dd1e60>"
      ]
     },
     "execution_count": 6,
     "metadata": {},
     "output_type": "execute_result"
    }
   ],
   "source": [
    "sheet.plot(chart_type='line')"
   ]
  },
  {
   "cell_type": "code",
   "execution_count": 7,
   "metadata": {
    "collapsed": false
   },
   "outputs": [
    {
     "data": {
      "text/html": [
       "Table 3 D:\n",
       "<table>\n",
       "<thead>\n",
       "<tr><th style=\"text-align: right;\">    </th><th style=\"text-align: right;\">  Asia</th><th style=\"text-align: right;\">  China, People's Republic</th><th style=\"text-align: right;\">  India</th></tr>\n",
       "</thead>\n",
       "<tbody>\n",
       "<tr><td style=\"text-align: right;\">2006</td><td style=\"text-align: right;\">440335</td><td style=\"text-align: right;\">                     87307</td><td style=\"text-align: right;\">  61369</td></tr>\n",
       "<tr><td style=\"text-align: right;\">2007</td><td style=\"text-align: right;\">397834</td><td style=\"text-align: right;\">                     76655</td><td style=\"text-align: right;\">  65353</td></tr>\n",
       "<tr><td style=\"text-align: right;\">2008</td><td style=\"text-align: right;\">399027</td><td style=\"text-align: right;\">                     80271</td><td style=\"text-align: right;\">  63352</td></tr>\n",
       "<tr><td style=\"text-align: right;\">2009</td><td style=\"text-align: right;\">413312</td><td style=\"text-align: right;\">                     64238</td><td style=\"text-align: right;\">  57304</td></tr>\n",
       "<tr><td style=\"text-align: right;\">2010</td><td style=\"text-align: right;\">422063</td><td style=\"text-align: right;\">                     70863</td><td style=\"text-align: right;\">  69162</td></tr>\n",
       "<tr><td style=\"text-align: right;\">2011</td><td style=\"text-align: right;\">451593</td><td style=\"text-align: right;\">                     87016</td><td style=\"text-align: right;\">  69013</td></tr>\n",
       "<tr><td style=\"text-align: right;\">2012</td><td style=\"text-align: right;\">429599</td><td style=\"text-align: right;\">                     81784</td><td style=\"text-align: right;\">  66434</td></tr>\n",
       "<tr><td style=\"text-align: right;\">2013</td><td style=\"text-align: right;\">400548</td><td style=\"text-align: right;\">                     71798</td><td style=\"text-align: right;\">  68458</td></tr>\n",
       "<tr><td style=\"text-align: right;\">2014</td><td style=\"text-align: right;\">430508</td><td style=\"text-align: right;\">                     76089</td><td style=\"text-align: right;\">  77908</td></tr>\n",
       "<tr><td style=\"text-align: right;\">2015</td><td style=\"text-align: right;\">419297</td><td style=\"text-align: right;\">                     74558</td><td style=\"text-align: right;\">  64116</td></tr>\n",
       "</tbody>\n",
       "</table>"
      ],
      "text/plain": [
       "Table 3 D:\n",
       "+------+--------+--------------------------+-------+\n",
       "|      |  Asia  | China, People's Republic | India |\n",
       "+======+========+==========================+=======+\n",
       "| 2006 | 440335 | 87307                    | 61369 |\n",
       "+------+--------+--------------------------+-------+\n",
       "| 2007 | 397834 | 76655                    | 65353 |\n",
       "+------+--------+--------------------------+-------+\n",
       "| 2008 | 399027 | 80271                    | 63352 |\n",
       "+------+--------+--------------------------+-------+\n",
       "| 2009 | 413312 | 64238                    | 57304 |\n",
       "+------+--------+--------------------------+-------+\n",
       "| 2010 | 422063 | 70863                    | 69162 |\n",
       "+------+--------+--------------------------+-------+\n",
       "| 2011 | 451593 | 87016                    | 69013 |\n",
       "+------+--------+--------------------------+-------+\n",
       "| 2012 | 429599 | 81784                    | 66434 |\n",
       "+------+--------+--------------------------+-------+\n",
       "| 2013 | 400548 | 71798                    | 68458 |\n",
       "+------+--------+--------------------------+-------+\n",
       "| 2014 | 430508 | 76089                    | 77908 |\n",
       "+------+--------+--------------------------+-------+\n",
       "| 2015 | 419297 | 74558                    | 64116 |\n",
       "+------+--------+--------------------------+-------+"
      ]
     },
     "execution_count": 7,
     "metadata": {},
     "output_type": "execute_result"
    }
   ],
   "source": [
    "sheet"
   ]
  },
  {
   "cell_type": "code",
   "execution_count": 9,
   "metadata": {
    "collapsed": false
   },
   "outputs": [
    {
     "data": {
      "text/html": [
       "pyexcel_sheet1:\n",
       "<table>\n",
       "<tbody>\n",
       "<tr><td>China             </td><td>India              </td><td>The Rest of Asia</td></tr>\n",
       "<tr><td>0.1778166788696318</td><td>0.15291309024390826</td><td>0.66927023088646</td></tr>\n",
       "</tbody>\n",
       "</table>"
      ],
      "text/plain": [
       "pyexcel_sheet1:\n",
       "+--------------------+---------------------+------------------+\n",
       "| China              | India               | The Rest of Asia |\n",
       "+--------------------+---------------------+------------------+\n",
       "| 0.1778166788696318 | 0.15291309024390826 | 0.66927023088646 |\n",
       "+--------------------+---------------------+------------------+"
      ]
     },
     "execution_count": 9,
     "metadata": {},
     "output_type": "execute_result"
    }
   ],
   "source": [
    "pie_dict = {}\n",
    "pie_dict['China'] = sheet['2015', 'China, People\\'s Republic']/sheet['2015', 'Asia']\n",
    "pie_dict['India'] = sheet['2015', 'India']/sheet['2015', 'Asia']\n",
    "pie_dict['The Rest of Asia'] = 1 - pie_dict['China'] - pie_dict['India']\n",
    "pie_sheet = p.get_sheet(adict=pie_dict)\n",
    "pie_sheet"
   ]
  },
  {
   "cell_type": "code",
   "execution_count": 10,
   "metadata": {
    "collapsed": false
   },
   "outputs": [
    {
     "data": {
      "image/svg+xml": [
       "<?xml version='1.0' encoding='utf-8'?>\n",
       "<svg xmlns:xlink=\"http://www.w3.org/1999/xlink\" class=\"pygal-chart\" id=\"chart-dfc58e80-7782-42c1-ac7f-25f833d9fba6\" viewBox=\"0 0 800 600\" xmlns=\"http://www.w3.org/2000/svg\"><!--Generated with pygal 2.3.1 (etree) ©Kozea 2012-2016 on 2017-02-08--><!--http://pygal.org--><!--http://github.com/Kozea/pygal--><defs><style type=\"text/css\">#chart-dfc58e80-7782-42c1-ac7f-25f833d9fba6{-webkit-user-select:none;-webkit-font-smoothing:antialiased;font-family:Consolas,\"Liberation Mono\",Menlo,Courier,monospace}#chart-dfc58e80-7782-42c1-ac7f-25f833d9fba6 .title{font-family:Consolas,\"Liberation Mono\",Menlo,Courier,monospace;font-size:16px}#chart-dfc58e80-7782-42c1-ac7f-25f833d9fba6 .legends .legend text{font-family:Consolas,\"Liberation Mono\",Menlo,Courier,monospace;font-size:14px}#chart-dfc58e80-7782-42c1-ac7f-25f833d9fba6 .axis text{font-family:Consolas,\"Liberation Mono\",Menlo,Courier,monospace;font-size:10px}#chart-dfc58e80-7782-42c1-ac7f-25f833d9fba6 .axis text.major{font-family:Consolas,\"Liberation Mono\",Menlo,Courier,monospace;font-size:10px}#chart-dfc58e80-7782-42c1-ac7f-25f833d9fba6 .text-overlay text.value{font-family:Consolas,\"Liberation Mono\",Menlo,Courier,monospace;font-size:16px}#chart-dfc58e80-7782-42c1-ac7f-25f833d9fba6 .text-overlay text.label{font-family:Consolas,\"Liberation Mono\",Menlo,Courier,monospace;font-size:10px}#chart-dfc58e80-7782-42c1-ac7f-25f833d9fba6 .tooltip{font-family:Consolas,\"Liberation Mono\",Menlo,Courier,monospace;font-size:14px}#chart-dfc58e80-7782-42c1-ac7f-25f833d9fba6 text.no_data{font-family:Consolas,\"Liberation Mono\",Menlo,Courier,monospace;font-size:64px}\n",
       "#chart-dfc58e80-7782-42c1-ac7f-25f833d9fba6{background-color:rgba(249,249,249,1)}#chart-dfc58e80-7782-42c1-ac7f-25f833d9fba6 path,#chart-dfc58e80-7782-42c1-ac7f-25f833d9fba6 line,#chart-dfc58e80-7782-42c1-ac7f-25f833d9fba6 rect,#chart-dfc58e80-7782-42c1-ac7f-25f833d9fba6 circle{-webkit-transition:150ms;-moz-transition:150ms;transition:150ms}#chart-dfc58e80-7782-42c1-ac7f-25f833d9fba6 .graph &gt; .background{fill:rgba(249,249,249,1)}#chart-dfc58e80-7782-42c1-ac7f-25f833d9fba6 .plot &gt; .background{fill:rgba(255,255,255,1)}#chart-dfc58e80-7782-42c1-ac7f-25f833d9fba6 .graph{fill:rgba(0,0,0,.87)}#chart-dfc58e80-7782-42c1-ac7f-25f833d9fba6 text.no_data{fill:rgba(0,0,0,1)}#chart-dfc58e80-7782-42c1-ac7f-25f833d9fba6 .title{fill:rgba(0,0,0,1)}#chart-dfc58e80-7782-42c1-ac7f-25f833d9fba6 .legends .legend text{fill:rgba(0,0,0,.87)}#chart-dfc58e80-7782-42c1-ac7f-25f833d9fba6 .legends .legend:hover text{fill:rgba(0,0,0,1)}#chart-dfc58e80-7782-42c1-ac7f-25f833d9fba6 .axis .line{stroke:rgba(0,0,0,1)}#chart-dfc58e80-7782-42c1-ac7f-25f833d9fba6 .axis .guide.line{stroke:rgba(0,0,0,.54)}#chart-dfc58e80-7782-42c1-ac7f-25f833d9fba6 .axis .major.line{stroke:rgba(0,0,0,.87)}#chart-dfc58e80-7782-42c1-ac7f-25f833d9fba6 .axis text.major{fill:rgba(0,0,0,1)}#chart-dfc58e80-7782-42c1-ac7f-25f833d9fba6 .axis.y .guides:hover .guide.line,#chart-dfc58e80-7782-42c1-ac7f-25f833d9fba6 .line-graph .axis.x .guides:hover .guide.line,#chart-dfc58e80-7782-42c1-ac7f-25f833d9fba6 .stackedline-graph .axis.x .guides:hover .guide.line,#chart-dfc58e80-7782-42c1-ac7f-25f833d9fba6 .xy-graph .axis.x .guides:hover .guide.line{stroke:rgba(0,0,0,1)}#chart-dfc58e80-7782-42c1-ac7f-25f833d9fba6 .axis .guides:hover text{fill:rgba(0,0,0,1)}#chart-dfc58e80-7782-42c1-ac7f-25f833d9fba6 .reactive{fill-opacity:.7;stroke-opacity:.8}#chart-dfc58e80-7782-42c1-ac7f-25f833d9fba6 .ci{stroke:rgba(0,0,0,.87)}#chart-dfc58e80-7782-42c1-ac7f-25f833d9fba6 .reactive.active,#chart-dfc58e80-7782-42c1-ac7f-25f833d9fba6 .active .reactive{fill-opacity:.8;stroke-opacity:.9;stroke-width:4}#chart-dfc58e80-7782-42c1-ac7f-25f833d9fba6 .ci .reactive.active{stroke-width:1.5}#chart-dfc58e80-7782-42c1-ac7f-25f833d9fba6 .series text{fill:rgba(0,0,0,1)}#chart-dfc58e80-7782-42c1-ac7f-25f833d9fba6 .tooltip rect{fill:rgba(255,255,255,1);stroke:rgba(0,0,0,1);-webkit-transition:opacity 150ms;-moz-transition:opacity 150ms;transition:opacity 150ms}#chart-dfc58e80-7782-42c1-ac7f-25f833d9fba6 .tooltip .label{fill:rgba(0,0,0,.87)}#chart-dfc58e80-7782-42c1-ac7f-25f833d9fba6 .tooltip .label{fill:rgba(0,0,0,.87)}#chart-dfc58e80-7782-42c1-ac7f-25f833d9fba6 .tooltip .legend{font-size:.8em;fill:rgba(0,0,0,.54)}#chart-dfc58e80-7782-42c1-ac7f-25f833d9fba6 .tooltip .x_label{font-size:.6em;fill:rgba(0,0,0,1)}#chart-dfc58e80-7782-42c1-ac7f-25f833d9fba6 .tooltip .xlink{font-size:.5em;text-decoration:underline}#chart-dfc58e80-7782-42c1-ac7f-25f833d9fba6 .tooltip .value{font-size:1.5em}#chart-dfc58e80-7782-42c1-ac7f-25f833d9fba6 .bound{font-size:.5em}#chart-dfc58e80-7782-42c1-ac7f-25f833d9fba6 .max-value{font-size:.75em;fill:rgba(0,0,0,.54)}#chart-dfc58e80-7782-42c1-ac7f-25f833d9fba6 .map-element{fill:rgba(255,255,255,1);stroke:rgba(0,0,0,.54) !important}#chart-dfc58e80-7782-42c1-ac7f-25f833d9fba6 .map-element .reactive{fill-opacity:inherit;stroke-opacity:inherit}#chart-dfc58e80-7782-42c1-ac7f-25f833d9fba6 .color-0,#chart-dfc58e80-7782-42c1-ac7f-25f833d9fba6 .color-0 a:visited{stroke:#F44336;fill:#F44336}#chart-dfc58e80-7782-42c1-ac7f-25f833d9fba6 .color-1,#chart-dfc58e80-7782-42c1-ac7f-25f833d9fba6 .color-1 a:visited{stroke:#3F51B5;fill:#3F51B5}#chart-dfc58e80-7782-42c1-ac7f-25f833d9fba6 .color-2,#chart-dfc58e80-7782-42c1-ac7f-25f833d9fba6 .color-2 a:visited{stroke:#009688;fill:#009688}#chart-dfc58e80-7782-42c1-ac7f-25f833d9fba6 .text-overlay .color-0 text{fill:black}#chart-dfc58e80-7782-42c1-ac7f-25f833d9fba6 .text-overlay .color-1 text{fill:black}#chart-dfc58e80-7782-42c1-ac7f-25f833d9fba6 .text-overlay .color-2 text{fill:black}\n",
       "#chart-dfc58e80-7782-42c1-ac7f-25f833d9fba6 text.no_data{text-anchor:middle}#chart-dfc58e80-7782-42c1-ac7f-25f833d9fba6 .guide.line{fill:none}#chart-dfc58e80-7782-42c1-ac7f-25f833d9fba6 .centered{text-anchor:middle}#chart-dfc58e80-7782-42c1-ac7f-25f833d9fba6 .title{text-anchor:middle}#chart-dfc58e80-7782-42c1-ac7f-25f833d9fba6 .legends .legend text{fill-opacity:1}#chart-dfc58e80-7782-42c1-ac7f-25f833d9fba6 .axis.x text{text-anchor:middle}#chart-dfc58e80-7782-42c1-ac7f-25f833d9fba6 .axis.x:not(.web) text[transform]{text-anchor:start}#chart-dfc58e80-7782-42c1-ac7f-25f833d9fba6 .axis.x:not(.web) text[transform].backwards{text-anchor:end}#chart-dfc58e80-7782-42c1-ac7f-25f833d9fba6 .axis.y text{text-anchor:end}#chart-dfc58e80-7782-42c1-ac7f-25f833d9fba6 .axis.y text[transform].backwards{text-anchor:start}#chart-dfc58e80-7782-42c1-ac7f-25f833d9fba6 .axis.y2 text{text-anchor:start}#chart-dfc58e80-7782-42c1-ac7f-25f833d9fba6 .axis.y2 text[transform].backwards{text-anchor:end}#chart-dfc58e80-7782-42c1-ac7f-25f833d9fba6 .axis .guide.line{stroke-dasharray:4,4}#chart-dfc58e80-7782-42c1-ac7f-25f833d9fba6 .axis .major.guide.line{stroke-dasharray:6,6}#chart-dfc58e80-7782-42c1-ac7f-25f833d9fba6 .horizontal .axis.y .guide.line,#chart-dfc58e80-7782-42c1-ac7f-25f833d9fba6 .horizontal .axis.y2 .guide.line,#chart-dfc58e80-7782-42c1-ac7f-25f833d9fba6 .vertical .axis.x .guide.line{opacity:0}#chart-dfc58e80-7782-42c1-ac7f-25f833d9fba6 .horizontal .axis.always_show .guide.line,#chart-dfc58e80-7782-42c1-ac7f-25f833d9fba6 .vertical .axis.always_show .guide.line{opacity:1 !important}#chart-dfc58e80-7782-42c1-ac7f-25f833d9fba6 .axis.y .guides:hover .guide.line,#chart-dfc58e80-7782-42c1-ac7f-25f833d9fba6 .axis.y2 .guides:hover .guide.line,#chart-dfc58e80-7782-42c1-ac7f-25f833d9fba6 .axis.x .guides:hover .guide.line{opacity:1}#chart-dfc58e80-7782-42c1-ac7f-25f833d9fba6 .axis .guides:hover text{opacity:1}#chart-dfc58e80-7782-42c1-ac7f-25f833d9fba6 .nofill{fill:none}#chart-dfc58e80-7782-42c1-ac7f-25f833d9fba6 .subtle-fill{fill-opacity:.2}#chart-dfc58e80-7782-42c1-ac7f-25f833d9fba6 .dot{stroke-width:1px;fill-opacity:1}#chart-dfc58e80-7782-42c1-ac7f-25f833d9fba6 .dot.active{stroke-width:5px}#chart-dfc58e80-7782-42c1-ac7f-25f833d9fba6 .dot.negative{fill:transparent}#chart-dfc58e80-7782-42c1-ac7f-25f833d9fba6 text,#chart-dfc58e80-7782-42c1-ac7f-25f833d9fba6 tspan{stroke:none !important}#chart-dfc58e80-7782-42c1-ac7f-25f833d9fba6 .series text.active{opacity:1}#chart-dfc58e80-7782-42c1-ac7f-25f833d9fba6 .tooltip rect{fill-opacity:.95;stroke-width:.5}#chart-dfc58e80-7782-42c1-ac7f-25f833d9fba6 .tooltip text{fill-opacity:1}#chart-dfc58e80-7782-42c1-ac7f-25f833d9fba6 .showable{visibility:hidden}#chart-dfc58e80-7782-42c1-ac7f-25f833d9fba6 .showable.shown{visibility:visible}#chart-dfc58e80-7782-42c1-ac7f-25f833d9fba6 .gauge-background{fill:rgba(229,229,229,1);stroke:none}#chart-dfc58e80-7782-42c1-ac7f-25f833d9fba6 .bg-lines{stroke:rgba(249,249,249,1);stroke-width:2px}</style><script type=\"text/javascript\">window.pygal = window.pygal || {};window.pygal.config = window.pygal.config || {};window.pygal.config['dfc58e80-7782-42c1-ac7f-25f833d9fba6'] = {\"margin_bottom\": null, \"height\": 600, \"dots_size\": 2.5, \"y_label_rotation\": 0, \"formatter\": null, \"legends\": [\"China\", \"India\", \"The Rest of Asia\"], \"half_pie\": false, \"show_minor_x_labels\": true, \"inner_radius\": 0, \"x_labels\": null, \"stack_from_top\": false, \"title\": \"Percentage of permanent residence issued to Chinese and Indian nationals in 2015, comparing with the rest of Asia\", \"rounded_bars\": null, \"margin\": 20, \"margin_left\": null, \"show_y_guides\": true, \"show_y_labels\": true, \"min_scale\": 4, \"css\": [\"file://style.css\", \"file://graph.css\"], \"y_labels_major_every\": null, \"print_values\": false, \"print_zeroes\": true, \"allow_interruptions\": false, \"strict\": false, \"js\": [\"//kozea.github.io/pygal.js/2.0.x/pygal-tooltips.min.js\"], \"x_labels_major_count\": null, \"y_labels\": null, \"explicit_size\": false, \"missing_value_fill_truncation\": \"x\", \"show_dots\": true, \"force_uri_protocol\": \"https\", \"classes\": [\"pygal-chart\"], \"show_legend\": true, \"show_x_labels\": true, \"secondary_range\": null, \"spacing\": 10, \"margin_right\": null, \"box_mode\": \"extremes\", \"show_x_guides\": false, \"tooltip_fancy_mode\": true, \"logarithmic\": false, \"stroke\": true, \"include_x_axis\": false, \"order_min\": null, \"defs\": [], \"disable_xml_declaration\": false, \"print_values_position\": \"center\", \"show_only_major_dots\": false, \"range\": null, \"interpolation_parameters\": {}, \"stroke_style\": null, \"style\": {\"tooltip_font_family\": \"Consolas, \\\"Liberation Mono\\\", Menlo, Courier, monospace\", \"transition\": \"150ms\", \"value_colors\": [], \"value_font_family\": \"Consolas, \\\"Liberation Mono\\\", Menlo, Courier, monospace\", \"label_font_family\": \"Consolas, \\\"Liberation Mono\\\", Menlo, Courier, monospace\", \"ci_colors\": [], \"stroke_opacity_hover\": \".9\", \"foreground_subtle\": \"rgba(0, 0, 0, .54)\", \"value_label_font_size\": 10, \"colors\": [\"#F44336\", \"#3F51B5\", \"#009688\", \"#FFC107\", \"#FF5722\", \"#9C27B0\", \"#03A9F4\", \"#8BC34A\", \"#FF9800\", \"#E91E63\", \"#2196F3\", \"#4CAF50\", \"#FFEB3B\", \"#673AB7\", \"#00BCD4\", \"#CDDC39\", \"#9E9E9E\", \"#607D8B\"], \"value_label_font_family\": \"Consolas, \\\"Liberation Mono\\\", Menlo, Courier, monospace\", \"foreground\": \"rgba(0, 0, 0, .87)\", \"guide_stroke_dasharray\": \"4,4\", \"tooltip_font_size\": 14, \"label_font_size\": 10, \"no_data_font_family\": \"Consolas, \\\"Liberation Mono\\\", Menlo, Courier, monospace\", \"legend_font_size\": 14, \"opacity\": \".7\", \"title_font_size\": 16, \"major_guide_stroke_dasharray\": \"6,6\", \"plot_background\": \"rgba(255, 255, 255, 1)\", \"value_background\": \"rgba(229, 229, 229, 1)\", \"font_family\": \"Consolas, \\\"Liberation Mono\\\", Menlo, Courier, monospace\", \"title_font_family\": \"Consolas, \\\"Liberation Mono\\\", Menlo, Courier, monospace\", \"legend_font_family\": \"Consolas, \\\"Liberation Mono\\\", Menlo, Courier, monospace\", \"major_label_font_size\": 10, \"value_font_size\": 16, \"background\": \"rgba(249, 249, 249, 1)\", \"stroke_opacity\": \".8\", \"opacity_hover\": \".8\", \"no_data_font_size\": 64, \"foreground_strong\": \"rgba(0, 0, 0, 1)\", \"major_label_font_family\": \"Consolas, \\\"Liberation Mono\\\", Menlo, Courier, monospace\"}, \"fill\": false, \"tooltip_border_radius\": 0, \"xrange\": null, \"margin_top\": null, \"legend_at_bottom\": true, \"dynamic_print_values\": false, \"x_labels_major\": null, \"interpolation_precision\": 250, \"no_prefix\": false, \"x_labels_major_every\": null, \"y_labels_major_count\": null, \"inverse_y_axis\": false, \"y_labels_major\": null, \"x_title\": null, \"width\": 800, \"no_data_text\": \"No data\", \"legend_at_bottom_columns\": null, \"legend_box_size\": 12, \"max_scale\": 16, \"show_minor_y_labels\": true, \"print_labels\": false, \"truncate_label\": null, \"pretty_print\": false, \"interpolate\": null, \"y_title\": null, \"x_label_rotation\": 0, \"truncate_legend\": null, \"zero\": 0}</script><script type=\"text/javascript\" xlink:href=\"https://kozea.github.io/pygal.js/2.0.x/pygal-tooltips.min.js\" /></defs><title>Percentage of permanent residence issued to Chinese and Indian nationals in 2015, comparing with the rest of Asia</title><g class=\"graph pie-graph vertical\"><rect class=\"background\" height=\"600\" width=\"800\" x=\"0\" y=\"0\" /><g class=\"plot\" transform=\"translate(20, 72)\"><rect class=\"background\" height=\"463.0\" width=\"760\" x=\"0\" y=\"0\" /><g class=\"series serie-0 color-0\"><g class=\"slices\"><g class=\"slice\"><path class=\"slice reactive tooltip-trigger\" d=\"M380.000000 23.150000 A208.350000 208.350000 0 0 1 567.286058 140.211146 L380.000000 231.500000 A0.000000 0.000000 0 0 0 380.000000 231.500000 z\" /><desc class=\"value\">0.1778166789</desc><desc class=\"x centered\">435.2151357541228</desc><desc class=\"y centered\">143.1613368413706</desc></g></g></g><g class=\"series serie-1 color-1\"><g class=\"slices\"><g class=\"slice\"><path class=\"slice reactive tooltip-trigger\" d=\"M567.286058 140.211146 A208.350000 208.350000 0 0 1 562.116340 332.709492 L380.000000 231.500000 A0.000000 0.000000 0 0 0 380.000000 231.500000 z\" /><desc class=\"value\">0.1529130902</desc><desc class=\"x centered\">484.13745272045253</desc><desc class=\"y centered\">234.29670625835345</desc></g></g></g><g class=\"series serie-2 color-2\"><g class=\"slices\"><g class=\"slice\"><path class=\"slice reactive tooltip-trigger\" d=\"M562.116340 332.709492 A208.350000 208.350000 0 1 1 380.000000 23.150000 L380.000000 231.500000 A0.000000 0.000000 0 1 0 380.000000 231.500000 z\" /><desc class=\"value\">0.6692702309</desc><desc class=\"x centered\">290.21085794298875</desc><desc class=\"y centered\">284.32367455664036</desc></g></g></g></g><g class=\"titles\"><text class=\"title plot_title\" x=\"400.0\" y=\"26\">Percentage of permanent residence issued to Chinese and Indian nationals</text><text class=\"title plot_title\" x=\"400.0\" y=\"52\">in 2015, comparing with the rest of Asia</text></g><g class=\"plot overlay\" transform=\"translate(20, 72)\"><g class=\"series serie-0 color-0\" /><g class=\"series serie-1 color-1\" /><g class=\"series serie-2 color-2\" /></g><g class=\"plot text-overlay\" transform=\"translate(20, 72)\"><g class=\"series serie-0 color-0\" /><g class=\"series serie-1 color-1\" /><g class=\"series serie-2 color-2\" /></g><g class=\"plot tooltip-overlay\" transform=\"translate(20, 72)\"><g class=\"tooltip\" style=\"opacity: 0\" transform=\"translate(0 0)\"><rect class=\"tooltip-box\" height=\"0\" rx=\"0\" ry=\"0\" width=\"0\" /><g class=\"text\" /></g></g><g class=\"legends\" transform=\"translate(30, 545)\"><g class=\"legend reactive activate-serie\" id=\"activate-serie-0\"><rect class=\"color-0 reactive\" height=\"12\" width=\"12\" x=\"0.0\" y=\"1.0\" /><text x=\"17.0\" y=\"11.2\">China</text></g><g class=\"legend reactive activate-serie\" id=\"activate-serie-1\"><rect class=\"color-1 reactive\" height=\"12\" width=\"12\" x=\"380.0\" y=\"1.0\" /><text x=\"397.0\" y=\"11.2\">India</text></g><g class=\"legend reactive activate-serie\" id=\"activate-serie-2\"><rect class=\"color-2 reactive\" height=\"12\" width=\"12\" x=\"0.0\" y=\"22.0\" /><text x=\"17.0\" y=\"32.2\">The Rest of Asia</text></g></g></g></svg>"
      ],
      "text/plain": [
       "<_io.BytesIO at 0x1045fa200>"
      ]
     },
     "execution_count": 10,
     "metadata": {},
     "output_type": "execute_result"
    }
   ],
   "source": [
    "pie_sheet.plot(\n",
    "    chart_type='pie', \n",
    "    legend_at_bottom=True,\n",
    "    title='Percentage of permanent residence issued to Chinese and Indian nationals in 2015, comparing with the rest of Asia'\n",
    ")"
   ]
  }
 ],
 "metadata": {
  "kernelspec": {
   "display_name": "Python 3",
   "language": "python",
   "name": "python3"
  },
  "language_info": {
   "codemirror_mode": {
    "name": "ipython",
    "version": 3
   },
   "file_extension": ".py",
   "mimetype": "text/x-python",
   "name": "python",
   "nbconvert_exporter": "python",
   "pygments_lexer": "ipython3",
   "version": "3.5.2"
  }
 },
 "nbformat": 4,
 "nbformat_minor": 2
}
