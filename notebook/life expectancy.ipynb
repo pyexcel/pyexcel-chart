{
 "cells": [
  {
   "cell_type": "code",
   "execution_count": 1,
   "metadata": {
    "collapsed": false
   },
   "outputs": [
    {
     "data": {
      "text/html": [
       "pyexcel sheet:\n",
       "<table>\n",
       "<tbody>\n",
       "<tr><td>﻿\"Data Source\"   </td><td>World Development Indicators</td><td>              </td><td>              </td><td>    </td></tr>\n",
       "<tr><td>                 </td><td>                            </td><td>              </td><td>              </td><td>    </td></tr>\n",
       "<tr><td>Last Updated Date</td><td>2017-01-03                  </td><td>              </td><td>              </td><td>    </td></tr>\n",
       "<tr><td>                 </td><td>                            </td><td>              </td><td>              </td><td>    </td></tr>\n",
       "<tr><td>Country Name     </td><td>Country Code                </td><td>Indicator Name</td><td>Indicator Code</td><td>1960</td></tr>\n",
       "</tbody>\n",
       "</table>"
      ],
      "text/plain": [
       "pyexcel sheet:\n",
       "+-------------------+------------------------------+----------------+----------------+------+\n",
       "| ﻿\"Data Source\"    | World Development Indicators |                |                |      |\n",
       "+-------------------+------------------------------+----------------+----------------+------+\n",
       "|                   |                              |                |                |      |\n",
       "+-------------------+------------------------------+----------------+----------------+------+\n",
       "| Last Updated Date | 03/01/17                     |                |                |      |\n",
       "+-------------------+------------------------------+----------------+----------------+------+\n",
       "|                   |                              |                |                |      |\n",
       "+-------------------+------------------------------+----------------+----------------+------+\n",
       "| Country Name      | Country Code                 | Indicator Name | Indicator Code | 1960 |\n",
       "+-------------------+------------------------------+----------------+----------------+------+"
      ]
     },
     "execution_count": 1,
     "metadata": {},
     "output_type": "execute_result"
    }
   ],
   "source": [
    "import pyexcel as p\n",
    "from IPython.display import HTML, display\n",
    "sheet = p.get_sheet(url='https://raw.githubusercontent.com/pyexcel/pyexcel-chart/master/API_SP.DYN.LE00.IN_DS2_en_csv_v2.csv')\n",
    "sheet.top_left()"
   ]
  },
  {
   "cell_type": "code",
   "execution_count": 2,
   "metadata": {
    "collapsed": false
   },
   "outputs": [
    {
     "data": {
      "text/html": [
       "pyexcel sheet:\n",
       "<table>\n",
       "<tbody>\n",
       "<tr><td>Country Name</td><td>Country Code</td><td>Indicator Name                         </td><td>Indicator Code</td><td>1960            </td></tr>\n",
       "<tr><td>Aruba       </td><td>ABW         </td><td>Life expectancy at birth, total (years)</td><td>SP.DYN.LE00.IN</td><td>65.5693658536586</td></tr>\n",
       "<tr><td>Andorra     </td><td>AND         </td><td>Life expectancy at birth, total (years)</td><td>SP.DYN.LE00.IN</td><td>                </td></tr>\n",
       "<tr><td>Afghanistan </td><td>AFG         </td><td>Life expectancy at birth, total (years)</td><td>SP.DYN.LE00.IN</td><td>32.328512195122 </td></tr>\n",
       "<tr><td>Angola      </td><td>AGO         </td><td>Life expectancy at birth, total (years)</td><td>SP.DYN.LE00.IN</td><td>32.9848292682927</td></tr>\n",
       "</tbody>\n",
       "</table>"
      ],
      "text/plain": [
       "pyexcel sheet:\n",
       "+--------------+--------------+-----------------------------------------+----------------+------------------+\n",
       "| Country Name | Country Code | Indicator Name                          | Indicator Code | 1960             |\n",
       "+--------------+--------------+-----------------------------------------+----------------+------------------+\n",
       "| Aruba        | ABW          | Life expectancy at birth, total (years) | SP.DYN.LE00.IN | 65.5693658536586 |\n",
       "+--------------+--------------+-----------------------------------------+----------------+------------------+\n",
       "| Andorra      | AND          | Life expectancy at birth, total (years) | SP.DYN.LE00.IN |                  |\n",
       "+--------------+--------------+-----------------------------------------+----------------+------------------+\n",
       "| Afghanistan  | AFG          | Life expectancy at birth, total (years) | SP.DYN.LE00.IN | 32.328512195122  |\n",
       "+--------------+--------------+-----------------------------------------+----------------+------------------+\n",
       "| Angola       | AGO          | Life expectancy at birth, total (years) | SP.DYN.LE00.IN | 32.9848292682927 |\n",
       "+--------------+--------------+-----------------------------------------+----------------+------------------+"
      ]
     },
     "execution_count": 2,
     "metadata": {},
     "output_type": "execute_result"
    }
   ],
   "source": [
    "del sheet.row[:4]\n",
    "sheet.top_left()"
   ]
  },
  {
   "cell_type": "code",
   "execution_count": 3,
   "metadata": {
    "collapsed": false
   },
   "outputs": [
    {
     "data": {
      "text/html": [
       "pyexcel sheet:\n",
       "<table>\n",
       "<tbody>\n",
       "<tr><td>Country Name</td><td>1960            </td><td>1961            </td><td>1962            </td><td>1963            </td></tr>\n",
       "<tr><td>Aruba       </td><td>65.5693658536586</td><td>65.9880243902439</td><td>66.3655365853659</td><td>66.7139756097561</td></tr>\n",
       "<tr><td>Andorra     </td><td>                </td><td>                </td><td>                </td><td>                </td></tr>\n",
       "<tr><td>Afghanistan </td><td>32.328512195122 </td><td>32.7774390243902</td><td>33.2199024390244</td><td>33.6578780487805</td></tr>\n",
       "<tr><td>Angola      </td><td>32.9848292682927</td><td>33.3862195121951</td><td>33.7875853658537</td><td>34.1884634146342</td></tr>\n",
       "</tbody>\n",
       "</table>"
      ],
      "text/plain": [
       "pyexcel sheet:\n",
       "+--------------+------------------+------------------+------------------+------------------+\n",
       "| Country Name | 1960             | 1961             | 1962             | 1963             |\n",
       "+--------------+------------------+------------------+------------------+------------------+\n",
       "| Aruba        | 65.5693658536586 | 65.9880243902439 | 66.3655365853659 | 66.7139756097561 |\n",
       "+--------------+------------------+------------------+------------------+------------------+\n",
       "| Andorra      |                  |                  |                  |                  |\n",
       "+--------------+------------------+------------------+------------------+------------------+\n",
       "| Afghanistan  | 32.328512195122  | 32.7774390243902 | 33.2199024390244 | 33.6578780487805 |\n",
       "+--------------+------------------+------------------+------------------+------------------+\n",
       "| Angola       | 32.9848292682927 | 33.3862195121951 | 33.7875853658537 | 34.1884634146342 |\n",
       "+--------------+------------------+------------------+------------------+------------------+"
      ]
     },
     "execution_count": 3,
     "metadata": {},
     "output_type": "execute_result"
    }
   ],
   "source": [
    "del sheet.column[1:4]\n",
    "sheet.top_left()"
   ]
  },
  {
   "cell_type": "code",
   "execution_count": 4,
   "metadata": {
    "collapsed": false
   },
   "outputs": [
    {
     "data": {
      "text/html": [
       "pyexcel sheet:\n",
       "<table>\n",
       "<tbody>\n",
       "<tr><td>Country Name</td><td>Aruba           </td><td>Andorra</td><td>Afghanistan     </td><td>Angola          </td></tr>\n",
       "<tr><td>1960        </td><td>65.5693658536586</td><td>       </td><td>32.328512195122 </td><td>32.9848292682927</td></tr>\n",
       "<tr><td>1961        </td><td>65.9880243902439</td><td>       </td><td>32.7774390243902</td><td>33.3862195121951</td></tr>\n",
       "<tr><td>1962        </td><td>66.3655365853659</td><td>       </td><td>33.2199024390244</td><td>33.7875853658537</td></tr>\n",
       "<tr><td>1963        </td><td>66.7139756097561</td><td>       </td><td>33.6578780487805</td><td>34.1884634146342</td></tr>\n",
       "</tbody>\n",
       "</table>"
      ],
      "text/plain": [
       "pyexcel sheet:\n",
       "+--------------+------------------+---------+------------------+------------------+\n",
       "| Country Name | Aruba            | Andorra | Afghanistan      | Angola           |\n",
       "+--------------+------------------+---------+------------------+------------------+\n",
       "| 1960         | 65.5693658536586 |         | 32.328512195122  | 32.9848292682927 |\n",
       "+--------------+------------------+---------+------------------+------------------+\n",
       "| 1961         | 65.9880243902439 |         | 32.7774390243902 | 33.3862195121951 |\n",
       "+--------------+------------------+---------+------------------+------------------+\n",
       "| 1962         | 66.3655365853659 |         | 33.2199024390244 | 33.7875853658537 |\n",
       "+--------------+------------------+---------+------------------+------------------+\n",
       "| 1963         | 66.7139756097561 |         | 33.6578780487805 | 34.1884634146342 |\n",
       "+--------------+------------------+---------+------------------+------------------+"
      ]
     },
     "execution_count": 4,
     "metadata": {},
     "output_type": "execute_result"
    }
   ],
   "source": [
    "sheet.transpose()\n",
    "sheet.top_left()"
   ]
  },
  {
   "cell_type": "code",
   "execution_count": 5,
   "metadata": {
    "collapsed": false
   },
   "outputs": [
    {
     "data": {
      "text/html": [
       "pyexcel sheet:\n",
       "<table>\n",
       "<thead>\n",
       "<tr><th style=\"text-align: right;\">  Country Name</th><th style=\"text-align: right;\">  Brazil</th><th style=\"text-align: right;\">  China</th><th style=\"text-align: right;\">  India</th><th style=\"text-align: right;\">  Russian Federation</th></tr>\n",
       "</thead>\n",
       "<tbody>\n",
       "<tr><td style=\"text-align: right;\">          1960</td><td style=\"text-align: right;\"> 54.2055</td><td style=\"text-align: right;\">43.354 </td><td style=\"text-align: right;\">41.172 </td><td style=\"text-align: right;\">             66.0553</td></tr>\n",
       "<tr><td style=\"text-align: right;\">          1961</td><td style=\"text-align: right;\"> 54.7187</td><td style=\"text-align: right;\">43.6733</td><td style=\"text-align: right;\">41.7905</td><td style=\"text-align: right;\">             66.597 </td></tr>\n",
       "<tr><td style=\"text-align: right;\">          1962</td><td style=\"text-align: right;\"> 55.2357</td><td style=\"text-align: right;\">44.3983</td><td style=\"text-align: right;\">42.4174</td><td style=\"text-align: right;\">             67.0214</td></tr>\n",
       "<tr><td style=\"text-align: right;\">          1963</td><td style=\"text-align: right;\"> 55.7514</td><td style=\"text-align: right;\">45.5789</td><td style=\"text-align: right;\">43.0527</td><td style=\"text-align: right;\">             67.3399</td></tr>\n",
       "<tr><td style=\"text-align: right;\">          1964</td><td style=\"text-align: right;\"> 56.263 </td><td style=\"text-align: right;\">47.1896</td><td style=\"text-align: right;\">43.6984</td><td style=\"text-align: right;\">             67.5665</td></tr>\n",
       "</tbody>\n",
       "</table>"
      ],
      "text/plain": [
       "pyexcel sheet:\n",
       "+--------------+------------------+------------------+------------------+--------------------+\n",
       "| Country Name |      Brazil      |      China       |      India       | Russian Federation |\n",
       "+==============+==================+==================+==================+====================+\n",
       "| 1960         | 54.2054634146342 | 43.354           | 41.1719512195122 | 66.0552926829268   |\n",
       "+--------------+------------------+------------------+------------------+--------------------+\n",
       "| 1961         | 54.7187073170732 | 43.6733414634146 | 41.7904878048781 | 66.5970243902439   |\n",
       "+--------------+------------------+------------------+------------------+--------------------+\n",
       "| 1962         | 55.2356585365854 | 44.3983414634146 | 42.4174146341463 | 67.0214146341464   |\n",
       "+--------------+------------------+------------------+------------------+--------------------+\n",
       "| 1963         | 55.7513902439024 | 45.5788780487805 | 43.0527317073171 | 67.3399024390244   |\n",
       "+--------------+------------------+------------------+------------------+--------------------+\n",
       "| 1964         | 56.2629512195122 | 47.1895609756098 | 43.6984146341463 | 67.566512195122    |\n",
       "+--------------+------------------+------------------+------------------+--------------------+"
      ]
     },
     "execution_count": 5,
     "metadata": {},
     "output_type": "execute_result"
    }
   ],
   "source": [
    "sheet.name_columns_by_row(0)\n",
    "sheet.column.select(['Country Name', 'Brazil', 'Russian Federation', 'India', 'China', 'South Africa'])\n",
    "sheet.top_left()"
   ]
  },
  {
   "cell_type": "code",
   "execution_count": 6,
   "metadata": {
    "collapsed": false
   },
   "outputs": [
    {
     "ename": "TypeError",
     "evalue": "custom_presenter() missing 1 required positional argument: 'self'",
     "output_type": "error",
     "traceback": [
      "\u001b[0;31m---------------------------------------------------------------------------\u001b[0m",
      "\u001b[0;31mTypeError\u001b[0m                                 Traceback (most recent call last)",
      "\u001b[0;32m<ipython-input-6-87dfd929bd16>\u001b[0m in \u001b[0;36m<module>\u001b[0;34m()\u001b[0m\n\u001b[1;32m      3\u001b[0m            \u001b[0mx_labels_major_count\u001b[0m\u001b[0;34m=\u001b[0m\u001b[0;36m10\u001b[0m\u001b[0;34m,\u001b[0m\u001b[0;34m\u001b[0m\u001b[0m\n\u001b[1;32m      4\u001b[0m            \u001b[0mx_label_rotation\u001b[0m\u001b[0;34m=\u001b[0m\u001b[0;36m30\u001b[0m\u001b[0;34m,\u001b[0m\u001b[0;34m\u001b[0m\u001b[0m\n\u001b[0;32m----> 5\u001b[0;31m            show_minor_x_labels=False)\n\u001b[0m",
      "\u001b[0;31mTypeError\u001b[0m: custom_presenter() missing 1 required positional argument: 'self'"
     ]
    }
   ],
   "source": [
    "sheet.plot(chart_type='line', \n",
    "           title='Life expectancy at birth in BRICS countries (years)',\n",
    "           x_labels_major_count=10,\n",
    "           x_label_rotation=30,\n",
    "           show_minor_x_labels=False)"
   ]
  },
  {
   "cell_type": "code",
   "execution_count": null,
   "metadata": {
    "collapsed": true
   },
   "outputs": [],
   "source": []
  }
 ],
 "metadata": {
  "kernelspec": {
   "display_name": "Python 3",
   "language": "python",
   "name": "python3"
  },
  "language_info": {
   "codemirror_mode": {
    "name": "ipython",
    "version": 3
   },
   "file_extension": ".py",
   "mimetype": "text/x-python",
   "name": "python",
   "nbconvert_exporter": "python",
   "pygments_lexer": "ipython3",
   "version": "3.5.2"
  }
 },
 "nbformat": 4,
 "nbformat_minor": 2
}
